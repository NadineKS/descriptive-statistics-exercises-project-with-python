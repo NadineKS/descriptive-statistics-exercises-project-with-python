{
  "nbformat": 4,
  "nbformat_minor": 0,
  "metadata": {
    "colab": {
      "provenance": []
    },
    "kernelspec": {
      "name": "python3",
      "display_name": "Python 3"
    },
    "language_info": {
      "name": "python"
    }
  },
  "cells": [
    {
      "cell_type": "markdown",
      "source": [
        "#All Imports"
      ],
      "metadata": {
        "id": "4meKazF2R7tj"
      }
    },
    {
      "cell_type": "code",
      "execution_count": 14,
      "metadata": {
        "id": "dsBNV-jBRxCk"
      },
      "outputs": [],
      "source": [
        "import numpy as np\n",
        "import statistics as stats\n",
        "from scipy.stats import skew\n",
        "from scipy.stats import kurtosis\n",
        "import math\n",
        "import sys\n"
      ]
    },
    {
      "cell_type": "markdown",
      "source": [
        "#Exercise 1"
      ],
      "metadata": {
        "id": "8dZ7HWUXSW7E"
      }
    },
    {
      "cell_type": "code",
      "source": [
        "np.random.seed(1)\n",
        "normal = np.random.normal(size = 100)\n",
        "chi = np.random.chisquare(3, 100)\n",
        "print(f\"Normal vector: {normal}\")\n",
        "print(f\"Chi-square vector: {chi}\")"
      ],
      "metadata": {
        "colab": {
          "base_uri": "https://localhost:8080/"
        },
        "id": "CiIuFXtJSSe6",
        "outputId": "91ae7712-3a12-4acf-dd88-19303ddb1ce9"
      },
      "execution_count": 3,
      "outputs": [
        {
          "output_type": "stream",
          "name": "stdout",
          "text": [
            "Normal vector: [ 1.62434536 -0.61175641 -0.52817175 -1.07296862  0.86540763 -2.3015387\n",
            "  1.74481176 -0.7612069   0.3190391  -0.24937038  1.46210794 -2.06014071\n",
            " -0.3224172  -0.38405435  1.13376944 -1.09989127 -0.17242821 -0.87785842\n",
            "  0.04221375  0.58281521 -1.10061918  1.14472371  0.90159072  0.50249434\n",
            "  0.90085595 -0.68372786 -0.12289023 -0.93576943 -0.26788808  0.53035547\n",
            " -0.69166075 -0.39675353 -0.6871727  -0.84520564 -0.67124613 -0.0126646\n",
            " -1.11731035  0.2344157   1.65980218  0.74204416 -0.19183555 -0.88762896\n",
            " -0.74715829  1.6924546   0.05080775 -0.63699565  0.19091548  2.10025514\n",
            "  0.12015895  0.61720311  0.30017032 -0.35224985 -1.1425182  -0.34934272\n",
            " -0.20889423  0.58662319  0.83898341  0.93110208  0.28558733  0.88514116\n",
            " -0.75439794  1.25286816  0.51292982 -0.29809284  0.48851815 -0.07557171\n",
            "  1.13162939  1.51981682  2.18557541 -1.39649634 -1.44411381 -0.50446586\n",
            "  0.16003707  0.87616892  0.31563495 -2.02220122 -0.30620401  0.82797464\n",
            "  0.23009474  0.76201118 -0.22232814 -0.20075807  0.18656139  0.41005165\n",
            "  0.19829972  0.11900865 -0.67066229  0.37756379  0.12182127  1.12948391\n",
            "  1.19891788  0.18515642 -0.37528495 -0.63873041  0.42349435  0.07734007\n",
            " -0.34385368  0.04359686 -0.62000084  0.69803203]\n",
            "Chi-square vector: [1.49457746e+00 6.10410003e+00 6.77256518e-01 2.71870142e+00\n",
            " 4.32658672e+00 8.19979840e-01 4.46480355e-01 3.08251915e+00\n",
            " 3.17547497e+00 4.91555629e-01 2.25073573e+00 2.94056359e-01\n",
            " 2.28055760e+00 1.02743399e+00 1.81168696e-01 6.15203233e+00\n",
            " 5.83159243e-01 4.73941374e+00 5.57164414e-01 3.73613463e+00\n",
            " 4.49919433e+00 1.22892154e+00 4.52956342e+00 2.43538280e+00\n",
            " 4.75863715e+00 4.35879905e+00 3.67417719e+00 2.64362209e+00\n",
            " 2.87247665e+00 4.14020433e+00 5.37376975e+00 3.42255426e+00\n",
            " 2.12359178e+00 2.37114437e+00 6.51909012e-01 1.38505736e+00\n",
            " 7.74248161e-01 3.57493002e+00 1.97591316e+00 1.09862394e+01\n",
            " 1.66494458e-01 1.31651499e+01 1.83637957e+00 6.55333445e+00\n",
            " 1.76608152e+00 5.22568686e-01 3.07832927e+00 2.10278045e+00\n",
            " 1.23763284e+00 2.99367066e+00 2.17892868e+00 9.34020337e+00\n",
            " 5.65051403e+00 3.89133627e+00 3.36409590e+00 1.57005497e+00\n",
            " 4.60441501e+00 4.76665605e-01 2.22176348e-01 6.54593130e-01\n",
            " 9.62305367e+00 1.69669482e+00 4.68674985e-01 5.51533523e-01\n",
            " 4.78283257e+00 6.88598488e+00 2.62348367e+00 7.58041248e+00\n",
            " 2.57773927e+00 1.34175711e+00 1.92961299e+00 2.89779824e+00\n",
            " 2.79705713e+00 2.08265470e+00 5.54621864e-01 4.60789677e+00\n",
            " 1.41406601e+00 1.72394085e+00 9.23433721e-01 4.11543155e+00\n",
            " 8.83691149e+00 4.96587328e-01 6.13686904e-03 9.52036507e+00\n",
            " 1.01610835e+01 3.84095085e+00 2.57040502e+00 3.45740063e-01\n",
            " 4.50662537e+00 1.61432323e+00 3.00409723e+00 2.94749392e+00\n",
            " 4.64531583e+00 7.50745380e+00 4.38636121e+00 4.81451857e+00\n",
            " 3.99617300e-01 6.13592210e+00 1.01901733e+00 1.51007212e+00]\n"
          ]
        }
      ]
    },
    {
      "cell_type": "markdown",
      "source": [
        "Mean"
      ],
      "metadata": {
        "id": "HPgKAgYaSw86"
      }
    },
    {
      "cell_type": "code",
      "source": [
        "print(f\"Normal mean: {stats.mean(normal)}\")\n",
        "print(f\"Chi mean: {stats.mean(chi)}\")"
      ],
      "metadata": {
        "colab": {
          "base_uri": "https://localhost:8080/"
        },
        "id": "gs2oQLHaSrDq",
        "outputId": "ec97d9f9-7919-433a-d828-11ea5421c5d9"
      },
      "execution_count": 5,
      "outputs": [
        {
          "output_type": "stream",
          "name": "stdout",
          "text": [
            "Normal mean: 0.0605828520756987\n",
            "Chi mean: 3.177425087251646\n"
          ]
        }
      ]
    },
    {
      "cell_type": "markdown",
      "source": [
        "Median"
      ],
      "metadata": {
        "id": "Jl_ieaVTSzti"
      }
    },
    {
      "cell_type": "code",
      "source": [
        "print(f\"Normal median: {stats.median(normal)}\")\n",
        "print(f\"Chi median: {stats.median(chi)}\")"
      ],
      "metadata": {
        "colab": {
          "base_uri": "https://localhost:8080/"
        },
        "id": "KmoF0FaqTV0k",
        "outputId": "f1336564-40f7-4fd9-f4db-8845bbb45b84"
      },
      "execution_count": 6,
      "outputs": [
        {
          "output_type": "stream",
          "name": "stdout",
          "text": [
            "Normal median: 0.0640739115622942\n",
            "Chi median: 2.6006114674034078\n"
          ]
        }
      ]
    },
    {
      "cell_type": "markdown",
      "source": [
        "Mode"
      ],
      "metadata": {
        "id": "JAQjJnyMS2Q6"
      }
    },
    {
      "cell_type": "code",
      "source": [
        "print(f\"Normal mode: {stats.mode(normal)}\")\n",
        "print(f\"Chi mode: {stats.mode(chi)}\")"
      ],
      "metadata": {
        "colab": {
          "base_uri": "https://localhost:8080/"
        },
        "id": "RR5Ji0rsTbNz",
        "outputId": "2ecf9ffd-6925-4f8c-8995-48c0977f7931"
      },
      "execution_count": 7,
      "outputs": [
        {
          "output_type": "stream",
          "name": "stdout",
          "text": [
            "Normal mode: 1.6243453636632417\n",
            "Chi mode: 1.4945774552801123\n"
          ]
        }
      ]
    },
    {
      "cell_type": "markdown",
      "source": [
        "Range"
      ],
      "metadata": {
        "id": "J0SEVjJpS6wv"
      }
    },
    {
      "cell_type": "code",
      "source": [
        "range_normal = max(normal) - min(normal)\n",
        "range_chi = max(chi) - min(chi)\n",
        "print(f\"Normal range: {range_normal}\")\n",
        "print(f\"Normal chi: {range_chi}\")"
      ],
      "metadata": {
        "colab": {
          "base_uri": "https://localhost:8080/"
        },
        "id": "lBCUQ_NRThfQ",
        "outputId": "e98d388e-585f-43eb-b1ac-f35d4dc1d7df"
      },
      "execution_count": 8,
      "outputs": [
        {
          "output_type": "stream",
          "name": "stdout",
          "text": [
            "Normal range: 4.487114103413444\n",
            "Normal chi: 13.15901303057271\n"
          ]
        }
      ]
    },
    {
      "cell_type": "markdown",
      "source": [
        "Variance and standard deviation"
      ],
      "metadata": {
        "id": "kNV4zFTWS7t4"
      }
    },
    {
      "cell_type": "code",
      "source": [
        "var_normal = stats.variance(normal)\n",
        "std_normal = stats.stdev(normal)\n",
        "var_chi = stats.variance(chi)\n",
        "std_chi = stats.stdev(chi)\n",
        "print(f\"Normal variance: {var_normal} and std: {std_normal}\")\n",
        "print(f\"Chi variance: {var_chi} and std: {std_chi}\")"
      ],
      "metadata": {
        "colab": {
          "base_uri": "https://localhost:8080/"
        },
        "id": "vodN9IC9TJx8",
        "outputId": "bce6c3c6-7881-483f-caaa-bc87e5e328dc"
      },
      "execution_count": 9,
      "outputs": [
        {
          "output_type": "stream",
          "name": "stdout",
          "text": [
            "Normal variance: 0.7914156796814815 and std: 0.8896154673124121\n",
            "Chi variance: 7.2321195651915104 and std: 2.6892600404556473\n"
          ]
        }
      ]
    },
    {
      "cell_type": "markdown",
      "source": [
        "Skewness"
      ],
      "metadata": {
        "id": "QvVq5E8bTGLi"
      }
    },
    {
      "cell_type": "code",
      "source": [
        "skew_normal = skew(normal)\n",
        "skew_chi = skew(chi)\n",
        "print(f\"Normal skewness: {skew_normal}\")\n",
        "print(f\"Chi skewness: {skew_chi}\")"
      ],
      "metadata": {
        "colab": {
          "base_uri": "https://localhost:8080/"
        },
        "id": "TJLApH95Tmkb",
        "outputId": "ba8b9f3f-487a-4ca1-fb3d-ad7c6a98fcbf"
      },
      "execution_count": 11,
      "outputs": [
        {
          "output_type": "stream",
          "name": "stdout",
          "text": [
            "Normal skewness: -0.0044816514359261265\n",
            "Chi skewness: 1.3584574111293857\n"
          ]
        }
      ]
    },
    {
      "cell_type": "markdown",
      "source": [
        "Kurtosis"
      ],
      "metadata": {
        "id": "tPAI0hF9TG0o"
      }
    },
    {
      "cell_type": "code",
      "source": [
        "kurt_normal = kurtosis(normal)\n",
        "kurt_chi = kurtosis(chi)\n",
        "print(f\"Normal kurtosis: {kurt_normal}\")\n",
        "print(f\"Chi kurtosis: {kurt_chi}\")"
      ],
      "metadata": {
        "colab": {
          "base_uri": "https://localhost:8080/"
        },
        "id": "bmXcnw6CTw38",
        "outputId": "de21773b-9afa-4bae-d1af-13433a00cf83"
      },
      "execution_count": 13,
      "outputs": [
        {
          "output_type": "stream",
          "name": "stdout",
          "text": [
            "Normal kurtosis: -0.0010829102812701663\n",
            "Chi kurtosis: 1.8104807492291926\n"
          ]
        }
      ]
    },
    {
      "cell_type": "markdown",
      "source": [
        "#Exercise 2"
      ],
      "metadata": {
        "id": "kqEQpAwlT3ON"
      }
    },
    {
      "cell_type": "code",
      "source": [
        "def sd_calc(data):\n",
        "    n = len(data)\n",
        "    if (n <= 1):\n",
        "        return 0.0\n",
        "    mean, sd = avg_calc(data), 0.0\n",
        "\n",
        "    for d in data:\n",
        "        sd += (float(d) - mean) ** 2\n",
        "    sd = math.sqrt(sd / float(n - 1))\n",
        "    return sd\n",
        "\n",
        "def avg_calc(data):\n",
        "    n, mean = len(data), 0.0\n",
        "    if (n <= 1):\n",
        "        return data[0]\n",
        "\n",
        "    for d in data:\n",
        "        mean = mean + float(d)\n",
        "    mean = mean / float(n)\n",
        "    return mean\n",
        "\n",
        "\n",
        "data = [4, 2, 5, 8, 6]\n",
        "print(f\"Sample Data: {data}\")\n",
        "print(f\"Standard Deviation: {sd_calc(data)}\")"
      ],
      "metadata": {
        "colab": {
          "base_uri": "https://localhost:8080/"
        },
        "id": "DZmrPbGkT5c2",
        "outputId": "b21f9625-5f6b-4a7d-fd12-cc297c1391fb"
      },
      "execution_count": 15,
      "outputs": [
        {
          "output_type": "stream",
          "name": "stdout",
          "text": [
            "Sample Data: [4, 2, 5, 8, 6]\n",
            "Standard Deviation: 2.23606797749979\n"
          ]
        }
      ]
    }
  ]
}